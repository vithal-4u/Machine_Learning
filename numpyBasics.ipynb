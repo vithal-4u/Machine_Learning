{
  "nbformat": 4,
  "nbformat_minor": 0,
  "metadata": {
    "colab": {
      "name": "numpyBasics.ipynb",
      "version": "0.3.2",
      "provenance": [],
      "include_colab_link": true
    },
    "kernelspec": {
      "name": "python3",
      "display_name": "Python 3"
    }
  },
  "cells": [
    {
      "cell_type": "markdown",
      "metadata": {
        "id": "view-in-github",
        "colab_type": "text"
      },
      "source": [
        "<a href=\"https://colab.research.google.com/github/vithal-4u/Machine_Learning/blob/master/numpyBasics.ipynb\" target=\"_parent\"><img src=\"https://colab.research.google.com/assets/colab-badge.svg\" alt=\"Open In Colab\"/></a>"
      ]
    },
    {
      "cell_type": "code",
      "metadata": {
        "id": "s_3wQWGyDn_J",
        "colab_type": "code",
        "colab": {
          "base_uri": "https://localhost:8080/",
          "height": 351
        },
        "outputId": "63f2e31d-804f-4c9b-bf95-6f0f62838eda"
      },
      "source": [
        "import numpy as np\n",
        "\n",
        "# NumPy’s main object is the homogeneous multidimensional array\n",
        "print('*** Create and print an array ***')\n",
        "a = np.arange(16).reshape(4, 4)\n",
        "print(a)\n",
        "\n",
        "print('*** Shape of the array ***')\n",
        "print(a.shape)\n",
        "\n",
        "print('*** Dimension or rank of array ***')\n",
        "print(a.ndim)       # rank\n",
        "\n",
        "print('*** data type of array ***')\n",
        "print(a.dtype.name)\n",
        "\n",
        "print('*** size of array items ***')\n",
        "print(a.itemsize)\n",
        "\n",
        "print('*** size of array ***')\n",
        "print(a.size)\n",
        "\n",
        "print('*** array type***')\n",
        "print(type(a))\n",
        "\n",
        "print('*** Create an array explicitly providing values ***')\n",
        "b = np.array([6, 7, 8])\n",
        "print(b)\n"
      ],
      "execution_count": 2,
      "outputs": [
        {
          "output_type": "stream",
          "text": [
            "*** Create and print an array ***\n",
            "[[ 0  1  2  3]\n",
            " [ 4  5  6  7]\n",
            " [ 8  9 10 11]\n",
            " [12 13 14 15]]\n",
            "*** Shape of the array ***\n",
            "(4, 4)\n",
            "*** Dimension or rank of array ***\n",
            "2\n",
            "*** data type of array ***\n",
            "int64\n",
            "*** size of array items ***\n",
            "8\n",
            "*** size of array ***\n",
            "16\n",
            "*** array type***\n",
            "<class 'numpy.ndarray'>\n",
            "*** Create an array explicitly providing values ***\n",
            "[6 7 8]\n"
          ],
          "name": "stdout"
        }
      ]
    }
  ]
}