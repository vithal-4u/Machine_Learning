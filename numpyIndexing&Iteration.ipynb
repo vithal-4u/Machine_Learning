{
  "nbformat": 4,
  "nbformat_minor": 0,
  "metadata": {
    "colab": {
      "name": "numpyIndexing&Iteration.ipynb",
      "version": "0.3.2",
      "provenance": [],
      "collapsed_sections": [],
      "include_colab_link": true
    },
    "kernelspec": {
      "name": "python3",
      "display_name": "Python 3"
    }
  },
  "cells": [
    {
      "cell_type": "markdown",
      "metadata": {
        "id": "view-in-github",
        "colab_type": "text"
      },
      "source": [
        "<a href=\"https://colab.research.google.com/github/vithal-4u/Machine_Learning/blob/master/numpyIndexing%26Iteration.ipynb\" target=\"_parent\"><img src=\"https://colab.research.google.com/assets/colab-badge.svg\" alt=\"Open In Colab\"/></a>"
      ]
    },
    {
      "cell_type": "code",
      "metadata": {
        "id": "mQuTLzB5bKHZ",
        "colab_type": "code",
        "colab": {
          "base_uri": "https://localhost:8080/",
          "height": 422
        },
        "outputId": "24401189-19fe-4ca7-fc25-b25d71fddf1a"
      },
      "source": [
        "import numpy as np\n",
        "\n",
        "# 1D array\n",
        "print('@@@@ *** 1D arrays ***')\n",
        "a = np.arange(10)**3\n",
        "print(a)\n",
        "print('*** a[2:5] ***')\n",
        "print(a[2:5])\n",
        "\n",
        "print('*** modify few elements in array ***')\n",
        "a[0:8:3] = 500\n",
        "print(a)\n",
        "\n",
        "print('*** iterate a ***')\n",
        "for i in a:\n",
        "    print(i**(1/3))\n",
        "print('')\n",
        "\n",
        "# 2D Array\n",
        "print('@@@@ *** 2D arrays ***')\n",
        "\n",
        "\n",
        "def f(x, y):\n",
        "    return 10*x+y\n",
        "\n",
        "b = np.fromfunction(f, (4, 3), dtype=int)\n",
        "print(b)"
      ],
      "execution_count": 11,
      "outputs": [
        {
          "output_type": "stream",
          "text": [
            "@@@@ *** 1D arrays ***\n",
            "[  0   1   8  27  64 125 216 343 512 729]\n",
            "*** a[2:5] ***\n",
            "[ 8 27 64]\n",
            "*** modify few elements in array ***\n",
            "[500   1   8 500  64 125 500 343 512 729]\n",
            "*** iterate a ***\n",
            "7.937005259840997\n",
            "1.0\n",
            "2.0\n",
            "7.937005259840997\n",
            "3.9999999999999996\n",
            "4.999999999999999\n",
            "7.937005259840997\n",
            "6.999999999999999\n",
            "7.999999999999999\n",
            "8.999999999999998\n",
            "\n",
            "@@@@ *** 2D arrays ***\n",
            "[[ 0  1  2]\n",
            " [10 11 12]\n",
            " [20 21 22]\n",
            " [30 31 32]]\n"
          ],
          "name": "stdout"
        }
      ]
    },
    {
      "cell_type": "code",
      "metadata": {
        "id": "G_0cwylY8aQ4",
        "colab_type": "code",
        "colab": {
          "base_uri": "https://localhost:8080/",
          "height": 386
        },
        "outputId": "74b3214d-9531-4880-d00d-5f5cebf6bb68"
      },
      "source": [
        "print('*** slicing ***')\n",
        "print(b[3, 1])\n",
        "print(b[:, 0])\n",
        "print(b[:, -1])\n",
        "\n",
        "print('*** iterate ***')\n",
        "# Iterating over multidimensional arrays is done with respect to the first axis:\n",
        "for row in b:\n",
        "    print(row)\n",
        "    \n",
        "for element in b.flat:\n",
        "    print(element)"
      ],
      "execution_count": 24,
      "outputs": [
        {
          "output_type": "stream",
          "text": [
            "*** slicing ***\n",
            "31\n",
            "[ 0 10 20 30]\n",
            "[ 2 12 22 32]\n",
            "*** iterate ***\n",
            "[0 1 2]\n",
            "[10 11 12]\n",
            "[20 21 22]\n",
            "[30 31 32]\n",
            "0\n",
            "1\n",
            "2\n",
            "10\n",
            "11\n",
            "12\n",
            "20\n",
            "21\n",
            "22\n",
            "30\n",
            "31\n",
            "32\n"
          ],
          "name": "stdout"
        }
      ]
    },
    {
      "cell_type": "code",
      "metadata": {
        "id": "Ef6KQ8mh-8bp",
        "colab_type": "code",
        "colab": {
          "base_uri": "https://localhost:8080/",
          "height": 263
        },
        "outputId": "af37dcf3-ae40-46c0-83b0-b55b891b1265"
      },
      "source": [
        "# 3D array\n",
        "print('@@@@ *** 3D arrays ***')\n",
        "c = np.array([[[0,  1,  2],               # a 3D array (two stacked 2D arrays)\n",
        "               [10, 12, 13]],\n",
        "              [[100, 101, 102],\n",
        "               [110, 112, 113]]])\n",
        "\n",
        "print(c)\n",
        "\n",
        "print('*** shape of 3D array')\n",
        "print(c.shape)\n",
        "print('*** slicing')\n",
        "print(c[1, ...])\n",
        "print('*** slicing- another approach')\n",
        "print(c[1, :, :])"
      ],
      "execution_count": 26,
      "outputs": [
        {
          "output_type": "stream",
          "text": [
            "@@@@ *** 3D arrays ***\n",
            "[[[  0   1   2]\n",
            "  [ 10  12  13]]\n",
            "\n",
            " [[100 101 102]\n",
            "  [110 112 113]]]\n",
            "*** shape of 3D array\n",
            "(2, 2, 3)\n",
            "*** slicing\n",
            "[[100 101 102]\n",
            " [110 112 113]]\n",
            "*** slicing- another approach\n",
            "[[100 101 102]\n",
            " [110 112 113]]\n"
          ],
          "name": "stdout"
        }
      ]
    }
  ]
}