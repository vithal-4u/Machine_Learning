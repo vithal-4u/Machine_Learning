{
  "nbformat": 4,
  "nbformat_minor": 0,
  "metadata": {
    "colab": {
      "name": "numpyOperations.ipynb",
      "version": "0.3.2",
      "provenance": [],
      "collapsed_sections": [],
      "include_colab_link": true
    },
    "kernelspec": {
      "name": "python3",
      "display_name": "Python 3"
    }
  },
  "cells": [
    {
      "cell_type": "markdown",
      "metadata": {
        "id": "view-in-github",
        "colab_type": "text"
      },
      "source": [
        "<a href=\"https://colab.research.google.com/github/vithal-4u/Machine_Learning/blob/master/numpyOperations.ipynb\" target=\"_parent\"><img src=\"https://colab.research.google.com/assets/colab-badge.svg\" alt=\"Open In Colab\"/></a>"
      ]
    },
    {
      "cell_type": "code",
      "metadata": {
        "id": "Ysr0pSqKRBHx",
        "colab_type": "code",
        "colab": {
          "base_uri": "https://localhost:8080/",
          "height": 580
        },
        "outputId": "cc546787-950d-4bad-d25e-b9f0aacc31f2"
      },
      "source": [
        "import numpy as np\n",
        "\n",
        "print('@@@@ *** array operations ***@@@@')\n",
        "a = np.array([20, 30, 40, 50])\n",
        "print(\"a\",a)\n",
        "b = np.arange(4)\n",
        "print(\"b\",b)\n",
        "\n",
        "print('*** subtraction ***')\n",
        "c = a-b\n",
        "print(\"c\",c)\n",
        "\n",
        "print('*** exponentiation ***')\n",
        "print(\"b\",b)\n",
        "print(\"b**2\",b**2)\n",
        "\n",
        "print('*** integer multiplication and trigonometric operation ***')\n",
        "print(\"np.sin(a)---\",np.sin(a))\n",
        "print(\"10 * np.sin(a)---\",10 * np.sin(a))\n",
        "\n",
        "print('*** Comparison (element-wise) with a number ***')\n",
        "print(\"a < 35---\",a < 35)\n",
        "\n",
        "print('@@@@ *** Array Products ***@@@@')\n",
        "A = np.array([[2, 1], [0, 1]])\n",
        "B = np.array([[2, 0], [3, 4]])\n",
        "\n",
        "print('*** element-wise product ***')\n",
        "print(\"A ---\",A)\n",
        "print(\"B ---\",B)\n",
        "print(A*B)           # element-wise product\n",
        "\n",
        "print('*** matrix product ***')\n",
        "print(\"A.dot(B) ---\",A.dot(B))       # matrix product\n",
        "\n",
        "print('*** matrix product (other approach)***')\n",
        "print(np.dot(A, B))   # another matrix product\n",
        "\n",
        "print('@@@@ *** sum, max, min ***@@@@')\n",
        "x = np.random.random((4, 5))\n",
        "print(\"Random ---\",x)"
      ],
      "execution_count": 23,
      "outputs": [
        {
          "output_type": "stream",
          "text": [
            "@@@@ *** array operations ***@@@@\n",
            "a [20 30 40 50]\n",
            "b [0 1 2 3]\n",
            "*** subtraction ***\n",
            "c [20 29 38 47]\n",
            "*** exponentiation ***\n",
            "b [0 1 2 3]\n",
            "b**2 [0 1 4 9]\n",
            "*** integer multiplication and trigonometric operation ***\n",
            "np.sin(a)--- [ 0.91294525 -0.98803162  0.74511316 -0.26237485]\n",
            "10 * np.sin(a)--- [ 9.12945251 -9.88031624  7.4511316  -2.62374854]\n",
            "*** Comparison (element-wise) with a number ***\n",
            "a < 35--- [ True  True False False]\n",
            "@@@@ *** Array Products ***@@@@\n",
            "*** element-wise product ***\n",
            "A --- [[2 1]\n",
            " [0 1]]\n",
            "B --- [[2 0]\n",
            " [3 4]]\n",
            "[[4 0]\n",
            " [0 4]]\n",
            "*** matrix product ***\n",
            "A.dot(B) --- [[7 4]\n",
            " [3 4]]\n",
            "*** matrix product (other approach)***\n",
            "[[7 4]\n",
            " [3 4]]\n",
            "@@@@ *** sum, max, min ***@@@@\n",
            "Random --- [[0.58441551 0.52744741 0.73214688 0.79036097 0.86135218]\n",
            " [0.79626893 0.93950321 0.95672497 0.45887608 0.26647666]\n",
            " [0.29760314 0.74540848 0.12569745 0.12748854 0.95429314]\n",
            " [0.99316943 0.12624198 0.36472981 0.39450831 0.65244614]]\n"
          ],
          "name": "stdout"
        }
      ]
    },
    {
      "cell_type": "code",
      "metadata": {
        "id": "KGAG7sPDGYK5",
        "colab_type": "code",
        "colab": {
          "base_uri": "https://localhost:8080/",
          "height": 756
        },
        "outputId": "51a0dcc8-f238-45be-ef3f-b4c284d9a8ae"
      },
      "source": [
        "print('*** ....after reshape ***')\n",
        "print(x.reshape(-1, 4))\n",
        "\n",
        "print('*** sum ***')\n",
        "print(x.sum())\n",
        "print('*** max ***')\n",
        "print(x.max())\n",
        "print('*** min ***')\n",
        "print(x.min())\n",
        "\n",
        "print('@@@@ *** unary operations ***@@@@')\n",
        "y = np.arange(12).reshape(4, -1)\n",
        "print(y)\n",
        "\n",
        "print('*** sum of each column ***')\n",
        "print(y.sum(axis=0))        # sum of each column\n",
        "print('*** min of each row ***')\n",
        "print(y.min(axis=1))   \n",
        "\n",
        "print('*** cumulative sum along each row ***')\n",
        "print(y.cumsum(axis=1))     # cumulative sum along each row\n",
        "\n",
        "print('@@@*** Universal Functions ***@@@')\n",
        "print('*** exponentiation ***')\n",
        "print(np.exp(y))\n",
        "\n",
        "print('*** square root ***')\n",
        "print(np.sqrt(y))\n",
        "print('*** expression ***')\n",
        "print(np.add(np.exp(y), 10*y))"
      ],
      "execution_count": 48,
      "outputs": [
        {
          "output_type": "stream",
          "text": [
            "*** ....after reshape ***\n",
            "[[0.58441551 0.52744741 0.73214688 0.79036097]\n",
            " [0.86135218 0.79626893 0.93950321 0.95672497]\n",
            " [0.45887608 0.26647666 0.29760314 0.74540848]\n",
            " [0.12569745 0.12748854 0.95429314 0.99316943]\n",
            " [0.12624198 0.36472981 0.39450831 0.65244614]]\n",
            "*** sum ***\n",
            "11.69515919878398\n",
            "*** max ***\n",
            "0.993169431721049\n",
            "*** min ***\n",
            "0.12569745492056994\n",
            "@@@@ *** unary operations ***@@@@\n",
            "[[ 0  1  2]\n",
            " [ 3  4  5]\n",
            " [ 6  7  8]\n",
            " [ 9 10 11]]\n",
            "*** sum of each column ***\n",
            "[18 22 26]\n",
            "*** min of each row ***\n",
            "[0 3 6 9]\n",
            "*** cumulative sum along each row ***\n",
            "[[ 0  1  3]\n",
            " [ 3  7 12]\n",
            " [ 6 13 21]\n",
            " [ 9 19 30]]\n",
            "@@@*** Universal Functions ***@@@\n",
            "*** exponentiation ***\n",
            "[[1.00000000e+00 2.71828183e+00 7.38905610e+00]\n",
            " [2.00855369e+01 5.45981500e+01 1.48413159e+02]\n",
            " [4.03428793e+02 1.09663316e+03 2.98095799e+03]\n",
            " [8.10308393e+03 2.20264658e+04 5.98741417e+04]]\n",
            "*** square root ***\n",
            "[[0.         1.         1.41421356]\n",
            " [1.73205081 2.         2.23606798]\n",
            " [2.44948974 2.64575131 2.82842712]\n",
            " [3.         3.16227766 3.31662479]]\n",
            "*** expression ***\n",
            "[[1.00000000e+00 1.27182818e+01 2.73890561e+01]\n",
            " [5.00855369e+01 9.45981500e+01 1.98413159e+02]\n",
            " [4.63428793e+02 1.16663316e+03 3.06095799e+03]\n",
            " [8.19308393e+03 2.21264658e+04 5.99841417e+04]]\n"
          ],
          "name": "stdout"
        }
      ]
    },
    {
      "cell_type": "code",
      "metadata": {
        "id": "S1kyKtMuaZYq",
        "colab_type": "code",
        "colab": {
          "base_uri": "https://localhost:8080/",
          "height": 158
        },
        "outputId": "15ed9dba-08da-4694-f2bd-c7c6b6bb5ea6"
      },
      "source": [
        "print('@@@@*** operation along the specified axis of an array ***@@@@')\n",
        "z = np.array([[25, 12, 29, 7],\n",
        "              [23, 14, 8, 43],\n",
        "              [24, 19, 47, 40]])\n",
        "print(z)\n",
        "print(z[0]-z[1])\n",
        "print(z[0]+z[1])\n",
        "print(z[0]*z[1])\n",
        "print(z.astype('float')[0]/z[1])"
      ],
      "execution_count": 49,
      "outputs": [
        {
          "output_type": "stream",
          "text": [
            "@@@@*** operation along the specified axis of an array ***@@@@\n",
            "[[25 12 29  7]\n",
            " [23 14  8 43]\n",
            " [24 19 47 40]]\n",
            "[  2  -2  21 -36]\n",
            "[48 26 37 50]\n",
            "[575 168 232 301]\n",
            "[1.08695652 0.85714286 3.625      0.1627907 ]\n"
          ],
          "name": "stdout"
        }
      ]
    }
  ]
}