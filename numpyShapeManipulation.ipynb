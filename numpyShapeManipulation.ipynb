{
  "nbformat": 4,
  "nbformat_minor": 0,
  "metadata": {
    "colab": {
      "name": "numpyShapeManipulation.ipynb",
      "version": "0.3.2",
      "provenance": [],
      "include_colab_link": true
    },
    "kernelspec": {
      "name": "python3",
      "display_name": "Python 3"
    }
  },
  "cells": [
    {
      "cell_type": "markdown",
      "metadata": {
        "id": "view-in-github",
        "colab_type": "text"
      },
      "source": [
        "<a href=\"https://colab.research.google.com/github/vithal-4u/Machine_Learning/blob/master/numpyShapeManipulation.ipynb\" target=\"_parent\"><img src=\"https://colab.research.google.com/assets/colab-badge.svg\" alt=\"Open In Colab\"/></a>"
      ]
    },
    {
      "cell_type": "code",
      "metadata": {
        "id": "Gcm52j0mAcCD",
        "colab_type": "code",
        "colab": {
          "base_uri": "https://localhost:8080/",
          "height": 439
        },
        "outputId": "c8a50302-9789-4682-9366-171308286367"
      },
      "source": [
        "import numpy as np\n",
        "# Initialize a seed so that we get the same results-\n",
        "# -all the time and we can keep a track\n",
        "\n",
        "np.random.seed(50)\n",
        "\n",
        "print('**** a ****')\n",
        "a = np.random.random((3, 4))\n",
        "print(a)\n",
        "\n",
        "print('**** floor(10*a) ****')\n",
        "b = np.floor(10*a)\n",
        "print(b)\n",
        "\n",
        "print('**** b.ravel() ****')\n",
        "print(b.ravel())\n",
        "\n",
        "print('**** b.shape = (6, 2) ****')\n",
        "b.shape = (6, 2)\n",
        "print(b)\n",
        "\n",
        "print('**** b.T ****')\n",
        "print(b.T)          # Transpose\n",
        "\n",
        "print('**** b.reshape(3, -1) ****')\n",
        "print(b.reshape(3, -1))"
      ],
      "execution_count": 6,
      "outputs": [
        {
          "output_type": "stream",
          "text": [
            "**** a ****\n",
            "[[0.49460165 0.2280831  0.25547392 0.39632991]\n",
            " [0.3773151  0.99657423 0.4081972  0.77189399]\n",
            " [0.76053669 0.31000935 0.3465412  0.35176482]]\n",
            "**** floor(10*a) ****\n",
            "[[4. 2. 2. 3.]\n",
            " [3. 9. 4. 7.]\n",
            " [7. 3. 3. 3.]]\n",
            "**** b.ravel() ****\n",
            "[4. 2. 2. 3. 3. 9. 4. 7. 7. 3. 3. 3.]\n",
            "**** b.shape = (6, 2) ****\n",
            "[[4. 2.]\n",
            " [2. 3.]\n",
            " [3. 9.]\n",
            " [4. 7.]\n",
            " [7. 3.]\n",
            " [3. 3.]]\n",
            "**** b.T ****\n",
            "[[4. 2. 3. 4. 7. 3.]\n",
            " [2. 3. 9. 7. 3. 3.]]\n",
            "**** b.reshape(3, -1) ****\n",
            "[[4. 2. 2. 3.]\n",
            " [3. 9. 4. 7.]\n",
            " [7. 3. 3. 3.]]\n"
          ],
          "name": "stdout"
        }
      ]
    }
  ]
}