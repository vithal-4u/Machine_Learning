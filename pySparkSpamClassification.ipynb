{
  "nbformat": 4,
  "nbformat_minor": 0,
  "metadata": {
    "colab": {
      "name": "pySparkSpamClassification.ipynb",
      "version": "0.3.2",
      "provenance": [],
      "collapsed_sections": [],
      "include_colab_link": true
    },
    "kernelspec": {
      "name": "python3",
      "display_name": "Python 3"
    }
  },
  "cells": [
    {
      "cell_type": "markdown",
      "metadata": {
        "id": "view-in-github",
        "colab_type": "text"
      },
      "source": [
        "<a href=\"https://colab.research.google.com/github/vithal-4u/Machine_Learning/blob/master/pySparkSpamClassification.ipynb\" target=\"_parent\"><img src=\"https://colab.research.google.com/assets/colab-badge.svg\" alt=\"Open In Colab\"/></a>"
      ]
    },
    {
      "cell_type": "code",
      "metadata": {
        "id": "X1-JZG7xSW8c",
        "colab_type": "code",
        "colab": {
          "base_uri": "https://localhost:8080/",
          "height": 125
        },
        "outputId": "5abfd92f-0745-4f4f-b8be-543313da10e7"
      },
      "source": [
        "from google.colab import drive\n",
        "drive.mount('/content/gdrive')\n",
        "\n",
        "root_path = 'gdrive/My Drive/Data/SMSSpamCollection.txt'"
      ],
      "execution_count": 1,
      "outputs": [
        {
          "output_type": "stream",
          "text": [
            "Go to this URL in a browser: https://accounts.google.com/o/oauth2/auth?client_id=947318989803-6bn6qk8qdgf4n4g3pfee6491hc0brc4i.apps.googleusercontent.com&redirect_uri=urn%3Aietf%3Awg%3Aoauth%3A2.0%3Aoob&scope=email%20https%3A%2F%2Fwww.googleapis.com%2Fauth%2Fdocs.test%20https%3A%2F%2Fwww.googleapis.com%2Fauth%2Fdrive%20https%3A%2F%2Fwww.googleapis.com%2Fauth%2Fdrive.photos.readonly%20https%3A%2F%2Fwww.googleapis.com%2Fauth%2Fpeopleapi.readonly&response_type=code\n",
            "\n",
            "Enter your authorization code:\n",
            "··········\n",
            "Mounted at /content/gdrive\n"
          ],
          "name": "stdout"
        }
      ]
    },
    {
      "cell_type": "code",
      "metadata": {
        "id": "yUYx2DTwTJ7R",
        "colab_type": "code",
        "colab": {
          "base_uri": "https://localhost:8080/",
          "height": 678
        },
        "outputId": "96fe3f12-26fa-4fa4-f55b-5c845769e73e"
      },
      "source": [
        "#!pip install --upgrade --quiet PyDrive\n",
        "\n",
        "#!pip3 install pyspark\n",
        "import pandas as pd\n",
        "import pyspark\n",
        "from pyspark import SparkContext, SparkConf\n",
        "from pyspark.sql import SQLContext\n",
        "from pyspark.sql import SparkSession\n",
        "\n",
        "data = pd.read_csv('gdrive/My Drive/Data/SMSSpamCollection.txt', delimiter = \"\\t\")\n",
        "#print(data)\n",
        "\n",
        "conf = SparkConf().setAppName(\"readData\").setMaster(\"local\")\n",
        "sc = SparkContext.getOrCreate(conf=conf)\n",
        "sqlContext = SQLContext(sc)\n",
        "\n",
        "#Rename Columns\n",
        "df = sqlContext.createDataFrame(data, [\"status\", \"features\"])\n",
        "df.show()\n",
        "\n",
        "#Change the status column to numeric\n",
        "df.createOrReplaceTempView('temp')\n",
        "spark = SparkSession.builder.getOrCreate()\n",
        "df = spark.sql('select case status when \"ham\" then 1.0  else 0 end as label, message from temp')\n",
        "df.show(5, truncate = False)"
      ],
      "execution_count": 4,
      "outputs": [
        {
          "output_type": "stream",
          "text": [
            "+------+--------------------+\n",
            "|status|            features|\n",
            "+------+--------------------+\n",
            "|   ham|Ok lar... Joking ...|\n",
            "|  spam|Free entry in 2 a...|\n",
            "|   ham|U dun say so earl...|\n",
            "|   ham|Nah I don't think...|\n",
            "|  spam|FreeMsg Hey there...|\n",
            "|   ham|Even my brother i...|\n",
            "|   ham|As per your reque...|\n",
            "|  spam|WINNER!! As a val...|\n",
            "|  spam|Had your mobile 1...|\n",
            "|   ham|I'm gonna be home...|\n",
            "|  spam|SIX chances to wi...|\n",
            "|  spam|URGENT! You have ...|\n",
            "|   ham|I've been searchi...|\n",
            "|   ham|I HAVE A DATE ON ...|\n",
            "|  spam|XXXMobileMovieClu...|\n",
            "|   ham|Oh k...i'm watchi...|\n",
            "|   ham|Eh u remember how...|\n",
            "|   ham|Fine if thats th...|\n",
            "|  spam|England v Macedon...|\n",
            "|   ham|Is that seriously...|\n",
            "+------+--------------------+\n",
            "only showing top 20 rows\n",
            "\n"
          ],
          "name": "stdout"
        },
        {
          "output_type": "error",
          "ename": "AttributeError",
          "evalue": "ignored",
          "traceback": [
            "\u001b[0;31m---------------------------------------------------------------------------\u001b[0m",
            "\u001b[0;31mAttributeError\u001b[0m                            Traceback (most recent call last)",
            "\u001b[0;32m<ipython-input-4-77f8318859c1>\u001b[0m in \u001b[0;36m<module>\u001b[0;34m()\u001b[0m\n\u001b[1;32m     17\u001b[0m \u001b[0;31m#Change the status column to numeric\u001b[0m\u001b[0;34m\u001b[0m\u001b[0;34m\u001b[0m\u001b[0;34m\u001b[0m\u001b[0m\n\u001b[1;32m     18\u001b[0m \u001b[0mdf\u001b[0m\u001b[0;34m.\u001b[0m\u001b[0mcreateOrReplaceTempView\u001b[0m\u001b[0;34m(\u001b[0m\u001b[0;34m'temp'\u001b[0m\u001b[0;34m)\u001b[0m\u001b[0;34m\u001b[0m\u001b[0;34m\u001b[0m\u001b[0m\n\u001b[0;32m---> 19\u001b[0;31m \u001b[0mdf\u001b[0m \u001b[0;34m=\u001b[0m \u001b[0msc\u001b[0m\u001b[0;34m.\u001b[0m\u001b[0msql\u001b[0m\u001b[0;34m(\u001b[0m\u001b[0;34m'select case status when \"ham\" then 1.0  else 0 end as label, message from temp'\u001b[0m\u001b[0;34m)\u001b[0m\u001b[0;34m\u001b[0m\u001b[0;34m\u001b[0m\u001b[0m\n\u001b[0m\u001b[1;32m     20\u001b[0m \u001b[0mdf\u001b[0m\u001b[0;34m.\u001b[0m\u001b[0mshow\u001b[0m\u001b[0;34m(\u001b[0m\u001b[0;36m5\u001b[0m\u001b[0;34m,\u001b[0m \u001b[0mtruncate\u001b[0m \u001b[0;34m=\u001b[0m \u001b[0;32mFalse\u001b[0m\u001b[0;34m)\u001b[0m\u001b[0;34m\u001b[0m\u001b[0;34m\u001b[0m\u001b[0m\n",
            "\u001b[0;31mAttributeError\u001b[0m: 'SparkContext' object has no attribute 'sql'"
          ]
        }
      ]
    }
  ]
}