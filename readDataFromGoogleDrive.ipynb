{
  "nbformat": 4,
  "nbformat_minor": 0,
  "metadata": {
    "colab": {
      "name": "readDataFromGoogleDrive.ipynb",
      "version": "0.3.2",
      "provenance": [],
      "collapsed_sections": [],
      "include_colab_link": true
    },
    "kernelspec": {
      "name": "python3",
      "display_name": "Python 3"
    }
  },
  "cells": [
    {
      "cell_type": "markdown",
      "metadata": {
        "id": "view-in-github",
        "colab_type": "text"
      },
      "source": [
        "<a href=\"https://colab.research.google.com/github/vithal-4u/Machine_Learning/blob/master/readDataFromGoogleDrive.ipynb\" target=\"_parent\"><img src=\"https://colab.research.google.com/assets/colab-badge.svg\" alt=\"Open In Colab\"/></a>"
      ]
    },
    {
      "cell_type": "code",
      "metadata": {
        "id": "yXggC_ur5y3G",
        "colab_type": "code",
        "outputId": "a98ae1f9-6635-4eff-9edb-5a6866352db9",
        "colab": {
          "base_uri": "https://localhost:8080/",
          "height": 125
        }
      },
      "source": [
        "from google.colab import drive\n",
        "drive.mount('/content/gdrive')\n",
        "\n",
        "root_path = 'gdrive/My Drive/Data/SMSSpamCollection.txt'"
      ],
      "execution_count": 4,
      "outputs": [
        {
          "output_type": "stream",
          "text": [
            "Go to this URL in a browser: https://accounts.google.com/o/oauth2/auth?client_id=947318989803-6bn6qk8qdgf4n4g3pfee6491hc0brc4i.apps.googleusercontent.com&redirect_uri=urn%3Aietf%3Awg%3Aoauth%3A2.0%3Aoob&scope=email%20https%3A%2F%2Fwww.googleapis.com%2Fauth%2Fdocs.test%20https%3A%2F%2Fwww.googleapis.com%2Fauth%2Fdrive%20https%3A%2F%2Fwww.googleapis.com%2Fauth%2Fdrive.photos.readonly%20https%3A%2F%2Fwww.googleapis.com%2Fauth%2Fpeopleapi.readonly&response_type=code\n",
            "\n",
            "Enter your authorization code:\n",
            "··········\n",
            "Mounted at /content/gdrive\n"
          ],
          "name": "stdout"
        }
      ]
    },
    {
      "cell_type": "code",
      "metadata": {
        "id": "Dko3zCDX73EZ",
        "colab_type": "code",
        "outputId": "ebf78696-bdd1-4586-fad4-2b5c53ebfea1",
        "colab": {
          "base_uri": "https://localhost:8080/",
          "height": 844
        }
      },
      "source": [
        "#!pip install --upgrade --quiet PyDrive\n",
        "\n",
        "!pip install pyspark\n",
        "import pandas as pd\n",
        "import pyspark\n",
        "from pyspark import SparkContext, SparkConf\n",
        "from pyspark.sql import SQLContext\n",
        "\n",
        "data = pd.read_csv('gdrive/My Drive/Data/SMSSpamCollection.txt', delimiter = \"\\t\")\n",
        "#print(data)\n",
        "\n",
        "conf = SparkConf().setAppName(\"readData\").setMaster(\"local\")\n",
        "sc = SparkContext.getOrCreate(conf=conf)\n",
        "sqlContext = SQLContext(sc)\n",
        "\n",
        "\n",
        "df = sqlContext.createDataFrame(data, [\"status\", \"features\"])\n",
        "df.show(39)"
      ],
      "execution_count": 5,
      "outputs": [
        {
          "output_type": "stream",
          "text": [
            "Requirement already satisfied: pyspark in /usr/local/lib/python3.6/dist-packages (2.4.4)\n",
            "Requirement already satisfied: py4j==0.10.7 in /usr/local/lib/python3.6/dist-packages (from pyspark) (0.10.7)\n",
            "+------+--------------------+\n",
            "|status|            features|\n",
            "+------+--------------------+\n",
            "|   ham|Ok lar... Joking ...|\n",
            "|  spam|Free entry in 2 a...|\n",
            "|   ham|U dun say so earl...|\n",
            "|   ham|Nah I don't think...|\n",
            "|  spam|FreeMsg Hey there...|\n",
            "|   ham|Even my brother i...|\n",
            "|   ham|As per your reque...|\n",
            "|  spam|WINNER!! As a val...|\n",
            "|  spam|Had your mobile 1...|\n",
            "|   ham|I'm gonna be home...|\n",
            "|  spam|SIX chances to wi...|\n",
            "|  spam|URGENT! You have ...|\n",
            "|   ham|I've been searchi...|\n",
            "|   ham|I HAVE A DATE ON ...|\n",
            "|  spam|XXXMobileMovieClu...|\n",
            "|   ham|Oh k...i'm watchi...|\n",
            "|   ham|Eh u remember how...|\n",
            "|   ham|Fine if thats th...|\n",
            "|  spam|England v Macedon...|\n",
            "|   ham|Is that seriously...|\n",
            "|   ham|I‘m going to try ...|\n",
            "|   ham|So ü pay first la...|\n",
            "|   ham|Aft i finish my l...|\n",
            "|   ham|Ffffffffff. Alrig...|\n",
            "|   ham|Just forced mysel...|\n",
            "|   ham|Lol your always s...|\n",
            "|   ham|Did you catch the...|\n",
            "|   ham|I'm back &amp; we...|\n",
            "|   ham|Ahhh. Work. I vag...|\n",
            "|   ham|Wait that's still...|\n",
            "|   ham|Yeah he got in at...|\n",
            "|   ham|K tell me anythin...|\n",
            "|   ham|For fear of faint...|\n",
            "|  spam|Thanks for your s...|\n",
            "|   ham|Yup... Ok i go ho...|\n",
            "|   ham|Oops, I'll let yo...|\n",
            "|   ham|I see the letter ...|\n",
            "|   ham|Anything lor... U...|\n",
            "|   ham|Hello! How's you ...|\n",
            "+------+--------------------+\n",
            "only showing top 39 rows\n",
            "\n"
          ],
          "name": "stdout"
        }
      ]
    }
  ]
}