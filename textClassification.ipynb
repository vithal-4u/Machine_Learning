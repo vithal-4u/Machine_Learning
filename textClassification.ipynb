{
  "nbformat": 4,
  "nbformat_minor": 0,
  "metadata": {
    "colab": {
      "name": "textClassification.ipynb",
      "version": "0.3.2",
      "provenance": [],
      "collapsed_sections": [],
      "include_colab_link": true
    },
    "kernelspec": {
      "name": "python3",
      "display_name": "Python 3"
    }
  },
  "cells": [
    {
      "cell_type": "markdown",
      "metadata": {
        "id": "view-in-github",
        "colab_type": "text"
      },
      "source": [
        "<a href=\"https://colab.research.google.com/github/vithal-4u/Machine_Learning/blob/master/textClassification.ipynb\" target=\"_parent\"><img src=\"https://colab.research.google.com/assets/colab-badge.svg\" alt=\"Open In Colab\"/></a>"
      ]
    },
    {
      "cell_type": "code",
      "metadata": {
        "id": "tba5NDK7f7ku",
        "colab_type": "code",
        "colab": {}
      },
      "source": [
        "!pip install -q tf_nightly"
      ],
      "execution_count": 0,
      "outputs": []
    },
    {
      "cell_type": "code",
      "metadata": {
        "id": "EWDq-GrLgTnd",
        "colab_type": "code",
        "colab": {}
      },
      "source": [
        "from __future__ import absolute_import, division, print_function, unicode_literals\n",
        "\n",
        "import tensorflow as tf\n",
        "from tensorflow import keras\n",
        "\n",
        "import numpy as np\n",
        "\n",
        "print(tf.__version__)\n",
        "\n",
        "imdb = keras.datasets.imdb\n",
        "\n",
        "(train_data, train_labels), (test_data, test_labels) = imdb.load_data(num_words=10000)"
      ],
      "execution_count": 0,
      "outputs": []
    },
    {
      "cell_type": "code",
      "metadata": {
        "id": "yxEdfhjxnen_",
        "colab_type": "code",
        "colab": {}
      },
      "source": [
        "print(\"Training entries: {}, labels: {}\".format(len(train_data), len(train_labels)))\n",
        "\n",
        "word_index = imdb.get_word_index()\n",
        "print(word_index)"
      ],
      "execution_count": 0,
      "outputs": []
    },
    {
      "cell_type": "code",
      "metadata": {
        "id": "INpCLCm1smE8",
        "colab_type": "code",
        "colab": {}
      },
      "source": [
        "for k,v in word_index.items():\n",
        "  print(k,v)"
      ],
      "execution_count": 0,
      "outputs": []
    },
    {
      "cell_type": "code",
      "metadata": {
        "id": "HJY-IOYhuYl0",
        "colab_type": "code",
        "colab": {}
      },
      "source": [
        "# A dictionary mapping words to an integer index\n",
        "word_index = imdb.get_word_index()\n",
        "\n",
        "# The first indices are reserved\n",
        "word_index = {k:(v+3) for k,v in word_index.items()}\n",
        "\n",
        "word_index[\"<PAD>\"] = 0\n",
        "word_index[\"<START>\"] = 1\n",
        "word_index[\"<UNK>\"] = 2  # unknown\n",
        "word_index[\"<UNUSED>\"] = 3\n",
        "\n",
        "#print(word_index)\n",
        "reverse_word_index = dict([(value, key) for (key, value) in word_index.items()])\n",
        "\n",
        "#print(reverse_word_index)\n",
        "\n",
        "def decode_review(text):\n",
        "  print(text)\n",
        "  return ' '.join([reverse_word_index.get(i, '?') for i in text])\n",
        "\n",
        "decode_review(train_data[0])\n",
        "\n",
        "train_data = keras.preprocessing.sequence.pad_sequences(train_data,\n",
        "                                                        value=word_index[\"<PAD>\"],\n",
        "                                                        padding='post',\n",
        "                                                        maxlen=256)\n",
        "\n",
        "test_data = keras.preprocessing.sequence.pad_sequences(test_data,\n",
        "                                                       value=word_index[\"<PAD>\"],\n",
        "                                                       padding='post',\n",
        "                                                       maxlen=256)\n",
        "len(train_data[0]), len(train_data[1])"
      ],
      "execution_count": 0,
      "outputs": []
    },
    {
      "cell_type": "code",
      "metadata": {
        "id": "piSFtuCukXf6",
        "colab_type": "code",
        "colab": {}
      },
      "source": [
        "vocab_size = 10000\n",
        "\n",
        "model = keras.Sequential()\n",
        "model.add(keras.layers.Embedding(vocab_size, 16))\n",
        "model.add(keras.layers.GlobalAveragePooling1D())\n",
        "model.add(keras.layers.Dense(16, activation=tf.nn.relu))\n",
        "model.add(keras.layers.Dense(1, activation=tf.nn.sigmoid))\n",
        "\n",
        "model.summary()"
      ],
      "execution_count": 0,
      "outputs": []
    },
    {
      "cell_type": "code",
      "metadata": {
        "id": "S5EhZrHBlPkj",
        "colab_type": "code",
        "colab": {}
      },
      "source": [
        "model.compile(optimizer='adam',\n",
        "              loss='binary_crossentropy',\n",
        "              metrics=['acc'])"
      ],
      "execution_count": 0,
      "outputs": []
    },
    {
      "cell_type": "code",
      "metadata": {
        "id": "73JTLkd0lz0s",
        "colab_type": "code",
        "colab": {}
      },
      "source": [
        "x_val = train_data[:10000]\n",
        "partial_x_train = train_data[10000:]\n",
        "\n",
        "y_val = train_labels[:10000]\n",
        "partial_y_train = train_labels[10000:]"
      ],
      "execution_count": 0,
      "outputs": []
    },
    {
      "cell_type": "code",
      "metadata": {
        "id": "T3-NBvXVmB9z",
        "colab_type": "code",
        "colab": {
          "base_uri": "https://localhost:8080/",
          "height": 1000
        },
        "outputId": "308d879d-e106-455c-94ee-453817c21c75"
      },
      "source": [
        "history = model.fit(partial_x_train,\n",
        "                    partial_y_train,\n",
        "                    epochs=40,\n",
        "                    batch_size=512,\n",
        "                    validation_data=(x_val, y_val),\n",
        "                    verbose=1)"
      ],
      "execution_count": 31,
      "outputs": [
        {
          "output_type": "stream",
          "text": [
            "Train on 15000 samples, validate on 10000 samples\n",
            "Epoch 1/40\n",
            "15000/15000 [==============================] - 1s 66us/sample - loss: 0.0104 - acc: 0.9991 - val_loss: 0.5968 - val_acc: 0.8629\n",
            "Epoch 2/40\n",
            "15000/15000 [==============================] - 1s 67us/sample - loss: 0.0097 - acc: 0.9996 - val_loss: 0.6008 - val_acc: 0.8625\n",
            "Epoch 3/40\n",
            "15000/15000 [==============================] - 1s 67us/sample - loss: 0.0095 - acc: 0.9997 - val_loss: 0.6059 - val_acc: 0.8628\n",
            "Epoch 4/40\n",
            "15000/15000 [==============================] - 1s 68us/sample - loss: 0.0090 - acc: 0.9997 - val_loss: 0.6111 - val_acc: 0.8621\n",
            "Epoch 5/40\n",
            "15000/15000 [==============================] - 1s 68us/sample - loss: 0.0086 - acc: 0.9997 - val_loss: 0.6152 - val_acc: 0.8627\n",
            "Epoch 6/40\n",
            "15000/15000 [==============================] - 1s 68us/sample - loss: 0.0082 - acc: 0.9997 - val_loss: 0.6215 - val_acc: 0.8617\n",
            "Epoch 7/40\n",
            "15000/15000 [==============================] - 1s 67us/sample - loss: 0.0079 - acc: 0.9997 - val_loss: 0.6251 - val_acc: 0.8616\n",
            "Epoch 8/40\n",
            "15000/15000 [==============================] - 1s 68us/sample - loss: 0.0075 - acc: 0.9997 - val_loss: 0.6302 - val_acc: 0.8623\n",
            "Epoch 9/40\n",
            "15000/15000 [==============================] - 1s 67us/sample - loss: 0.0071 - acc: 0.9997 - val_loss: 0.6357 - val_acc: 0.8618\n",
            "Epoch 10/40\n",
            "15000/15000 [==============================] - 1s 67us/sample - loss: 0.0069 - acc: 0.9997 - val_loss: 0.6411 - val_acc: 0.8615\n",
            "Epoch 11/40\n",
            "15000/15000 [==============================] - 1s 68us/sample - loss: 0.0066 - acc: 0.9998 - val_loss: 0.6462 - val_acc: 0.8615\n",
            "Epoch 12/40\n",
            "15000/15000 [==============================] - 1s 66us/sample - loss: 0.0063 - acc: 0.9998 - val_loss: 0.6510 - val_acc: 0.8615\n",
            "Epoch 13/40\n",
            "15000/15000 [==============================] - 1s 66us/sample - loss: 0.0061 - acc: 0.9998 - val_loss: 0.6552 - val_acc: 0.8618\n",
            "Epoch 14/40\n",
            "15000/15000 [==============================] - 1s 64us/sample - loss: 0.0058 - acc: 0.9998 - val_loss: 0.6622 - val_acc: 0.8612\n",
            "Epoch 15/40\n",
            "15000/15000 [==============================] - 1s 65us/sample - loss: 0.0060 - acc: 0.9998 - val_loss: 0.6654 - val_acc: 0.8620\n",
            "Epoch 16/40\n",
            "15000/15000 [==============================] - 1s 66us/sample - loss: 0.0055 - acc: 0.9998 - val_loss: 0.6699 - val_acc: 0.8610\n",
            "Epoch 17/40\n",
            "15000/15000 [==============================] - 1s 65us/sample - loss: 0.0053 - acc: 0.9998 - val_loss: 0.6755 - val_acc: 0.8607\n",
            "Epoch 18/40\n",
            "15000/15000 [==============================] - 1s 66us/sample - loss: 0.0051 - acc: 0.9998 - val_loss: 0.6788 - val_acc: 0.8606\n",
            "Epoch 19/40\n",
            "15000/15000 [==============================] - 1s 66us/sample - loss: 0.0049 - acc: 0.9998 - val_loss: 0.6832 - val_acc: 0.8610\n",
            "Epoch 20/40\n",
            "15000/15000 [==============================] - 1s 65us/sample - loss: 0.0047 - acc: 0.9998 - val_loss: 0.6882 - val_acc: 0.8613\n",
            "Epoch 21/40\n",
            "15000/15000 [==============================] - 1s 67us/sample - loss: 0.0046 - acc: 0.9998 - val_loss: 0.6926 - val_acc: 0.8611\n",
            "Epoch 22/40\n",
            "15000/15000 [==============================] - 1s 67us/sample - loss: 0.0044 - acc: 0.9998 - val_loss: 0.6973 - val_acc: 0.8611\n",
            "Epoch 23/40\n",
            "15000/15000 [==============================] - 1s 68us/sample - loss: 0.0042 - acc: 0.9998 - val_loss: 0.7012 - val_acc: 0.8607\n",
            "Epoch 24/40\n",
            "15000/15000 [==============================] - 1s 69us/sample - loss: 0.0041 - acc: 0.9999 - val_loss: 0.7060 - val_acc: 0.8611\n",
            "Epoch 25/40\n",
            "15000/15000 [==============================] - 1s 69us/sample - loss: 0.0040 - acc: 0.9999 - val_loss: 0.7109 - val_acc: 0.8604\n",
            "Epoch 26/40\n",
            "15000/15000 [==============================] - 1s 69us/sample - loss: 0.0038 - acc: 0.9999 - val_loss: 0.7144 - val_acc: 0.8611\n",
            "Epoch 27/40\n",
            "15000/15000 [==============================] - 1s 68us/sample - loss: 0.0037 - acc: 0.9998 - val_loss: 0.7188 - val_acc: 0.8609\n",
            "Epoch 28/40\n",
            "15000/15000 [==============================] - 1s 68us/sample - loss: 0.0036 - acc: 0.9998 - val_loss: 0.7226 - val_acc: 0.8604\n",
            "Epoch 29/40\n",
            "15000/15000 [==============================] - 1s 69us/sample - loss: 0.0035 - acc: 0.9999 - val_loss: 0.7279 - val_acc: 0.8603\n",
            "Epoch 30/40\n",
            "15000/15000 [==============================] - 1s 69us/sample - loss: 0.0034 - acc: 0.9999 - val_loss: 0.7314 - val_acc: 0.8606\n",
            "Epoch 31/40\n",
            "15000/15000 [==============================] - 1s 70us/sample - loss: 0.0033 - acc: 0.9999 - val_loss: 0.7352 - val_acc: 0.8601\n",
            "Epoch 32/40\n",
            "15000/15000 [==============================] - 1s 71us/sample - loss: 0.0032 - acc: 0.9999 - val_loss: 0.7396 - val_acc: 0.8606\n",
            "Epoch 33/40\n",
            "15000/15000 [==============================] - 1s 70us/sample - loss: 0.0031 - acc: 0.9999 - val_loss: 0.7437 - val_acc: 0.8603\n",
            "Epoch 34/40\n",
            "15000/15000 [==============================] - 1s 73us/sample - loss: 0.0030 - acc: 0.9999 - val_loss: 0.7478 - val_acc: 0.8605\n",
            "Epoch 35/40\n",
            "15000/15000 [==============================] - 1s 68us/sample - loss: 0.0029 - acc: 0.9999 - val_loss: 0.7522 - val_acc: 0.8602\n",
            "Epoch 36/40\n",
            "15000/15000 [==============================] - 1s 67us/sample - loss: 0.0028 - acc: 0.9999 - val_loss: 0.7555 - val_acc: 0.8602\n",
            "Epoch 37/40\n",
            "15000/15000 [==============================] - 1s 68us/sample - loss: 0.0027 - acc: 0.9999 - val_loss: 0.7609 - val_acc: 0.8603\n",
            "Epoch 38/40\n",
            "15000/15000 [==============================] - 1s 66us/sample - loss: 0.0026 - acc: 0.9999 - val_loss: 0.7638 - val_acc: 0.8599\n",
            "Epoch 39/40\n",
            "15000/15000 [==============================] - 1s 65us/sample - loss: 0.0025 - acc: 0.9999 - val_loss: 0.7675 - val_acc: 0.8599\n",
            "Epoch 40/40\n",
            "15000/15000 [==============================] - 1s 67us/sample - loss: 0.0025 - acc: 0.9999 - val_loss: 0.7732 - val_acc: 0.8592\n"
          ],
          "name": "stdout"
        }
      ]
    },
    {
      "cell_type": "code",
      "metadata": {
        "id": "a3QNeiR1m4tE",
        "colab_type": "code",
        "colab": {
          "base_uri": "https://localhost:8080/",
          "height": 52
        },
        "outputId": "802eadff-e41e-4a7e-e6cc-26bc67c595fa"
      },
      "source": [
        "results = model.evaluate(test_data, test_labels)\n",
        "print(results)"
      ],
      "execution_count": 32,
      "outputs": [
        {
          "output_type": "stream",
          "text": [
            "25000/25000 [==============================] - 1s 36us/sample - loss: 0.8247 - acc: 0.8466\n",
            "[0.8246550693893433, 0.84664]\n"
          ],
          "name": "stdout"
        }
      ]
    },
    {
      "cell_type": "code",
      "metadata": {
        "id": "E9ZHAqIYnS7z",
        "colab_type": "code",
        "colab": {
          "base_uri": "https://localhost:8080/",
          "height": 34
        },
        "outputId": "ec65e541-d463-4f06-c7d6-01d7c10bab02"
      },
      "source": [
        "history_dict = history.history\n",
        "history_dict.keys()"
      ],
      "execution_count": 33,
      "outputs": [
        {
          "output_type": "execute_result",
          "data": {
            "text/plain": [
              "dict_keys(['loss', 'acc', 'val_loss', 'val_acc'])"
            ]
          },
          "metadata": {
            "tags": []
          },
          "execution_count": 33
        }
      ]
    },
    {
      "cell_type": "code",
      "metadata": {
        "id": "v5ARyLanngx2",
        "colab_type": "code",
        "colab": {
          "base_uri": "https://localhost:8080/",
          "height": 107
        },
        "outputId": "e7c311ac-a1fe-4896-cfbd-8cb4605bd960"
      },
      "source": [
        "import matplotlib.pyplot as plt\n",
        "\n",
        "acc = history_dict['acc']\n",
        "val_acc = history_dict['val_acc']\n",
        "loss = history_dict['loss']\n",
        "val_loss = history_dict['val_loss']\n",
        "\n",
        "print(len(acc))\n",
        "print(val_acc)\n",
        "print(loss)\n",
        "print(val_loss)"
      ],
      "execution_count": 39,
      "outputs": [
        {
          "output_type": "stream",
          "text": [
            "40\n",
            "[0.8629, 0.8625, 0.8628, 0.8621, 0.8627, 0.8617, 0.8616, 0.8623, 0.8618, 0.8615, 0.8615, 0.8615, 0.8618, 0.8612, 0.862, 0.861, 0.8607, 0.8606, 0.861, 0.8613, 0.8611, 0.8611, 0.8607, 0.8611, 0.8604, 0.8611, 0.8609, 0.8604, 0.8603, 0.8606, 0.8601, 0.8606, 0.8603, 0.8605, 0.8602, 0.8602, 0.8603, 0.8599, 0.8599, 0.8592]\n",
            "[0.010447295538087686, 0.00968147135178248, 0.00948752474958698, 0.009031855667134126, 0.00861736540744702, 0.008242252078652382, 0.00791332141260306, 0.00746058987006545, 0.007088536589841048, 0.0068939129079381625, 0.006580227073778709, 0.006304546249409517, 0.0060526737133661905, 0.005836844570438067, 0.005951303838565946, 0.005487990449865659, 0.005257930009563764, 0.005071248390277227, 0.004908337103823821, 0.0047060978971421715, 0.00455478115255634, 0.004394603848954042, 0.004224293178319931, 0.004119274087746938, 0.003975830418989063, 0.0038200763943915567, 0.0036803516345719498, 0.003622233833372593, 0.0034670952099064988, 0.0034045418272415796, 0.003333695597325762, 0.003163098228474458, 0.0030515968326479195, 0.002978595566128691, 0.0028771764722963175, 0.0027865737553685902, 0.002662224661062161, 0.0026299079278483987, 0.002535559936488668, 0.0025110101758812862]\n",
            "[0.5967938315391541, 0.6007772996902466, 0.6059125385284424, 0.6111120241165161, 0.6152025055885315, 0.6214521095275879, 0.625071203136444, 0.6302204219818115, 0.6356601140975953, 0.6411065584182739, 0.6461876586914063, 0.6509701706886292, 0.6552282112121582, 0.6622021770477295, 0.6654451056480408, 0.6699456871032715, 0.6754579073905945, 0.6788440571784973, 0.6832146062850952, 0.6881508783340454, 0.6926228452682495, 0.6973481889724732, 0.7011902665138244, 0.70595442237854, 0.7108908900260925, 0.7144098323822021, 0.7188253442764282, 0.7225623805046082, 0.7278691920280457, 0.7314390565872192, 0.7351812995910645, 0.739582513141632, 0.7436587235450745, 0.7478196964263916, 0.7521542599678039, 0.7554850706100464, 0.7609181212425232, 0.763811852645874, 0.7674512446403503, 0.7732466425895691]\n"
          ],
          "name": "stdout"
        }
      ]
    },
    {
      "cell_type": "code",
      "metadata": {
        "id": "cd4miozrqTkc",
        "colab_type": "code",
        "colab": {
          "base_uri": "https://localhost:8080/",
          "height": 295
        },
        "outputId": "8819c1a1-da62-4876-d347-07464a8e6b1d"
      },
      "source": [
        "epochs = range(1, len(acc) + 1)\n",
        "\n",
        "# \"bo\" is for \"blue dot\"\n",
        "plt.plot(epochs, loss, 'bo', label='Training loss')\n",
        "# b is for \"solid blue line\"\n",
        "plt.plot(epochs, val_loss, 'b', label='Validation loss')\n",
        "plt.title('Training and validation loss')\n",
        "plt.xlabel('Epochs')\n",
        "plt.ylabel('Loss')\n",
        "plt.legend()\n",
        "\n",
        "plt.show()"
      ],
      "execution_count": 35,
      "outputs": [
        {
          "output_type": "display_data",
          "data": {
            "image/png": "[encoded data removed]",
            "text/plain": [
              "<Figure size 432x288 with 1 Axes>"
            ]
          },
          "metadata": {
            "tags": []
          }
        }
      ]
    },
    {
      "cell_type": "code",
      "metadata": {
        "id": "U-MdlIO8rFR0",
        "colab_type": "code",
        "colab": {
          "base_uri": "https://localhost:8080/",
          "height": 295
        },
        "outputId": "57d35b79-f720-40ea-964b-2fa5bc33d701"
      },
      "source": [
        "plt.clf()   # clear figure\n",
        "\n",
        "plt.plot(epochs, acc, 'bo', label='Training acc')\n",
        "plt.plot(epochs, val_acc, 'b', label='Validation acc')\n",
        "plt.title('Training and validation accuracy')\n",
        "plt.xlabel('Epochs')\n",
        "plt.ylabel('Accuracy')\n",
        "plt.legend()\n",
        "\n",
        "plt.show()"
      ],
      "execution_count": 40,
      "outputs": [
        {
          "output_type": "display_data",
          "data": {
            "image/png": "[encoded data removed]",
            "text/plain": [
              "<Figure size 432x288 with 1 Axes>"
            ]
          },
          "metadata": {
            "tags": []
          }
        }
      ]
    }
  ]
}